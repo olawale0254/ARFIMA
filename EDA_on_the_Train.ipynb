{
  "nbformat": 4,
  "nbformat_minor": 0,
  "metadata": {
    "colab": {
      "name": "EDA on the Train.ipynb",
      "provenance": [],
      "mount_file_id": "1R1YELCfkSNGb0lxT2x87NQTTAw8dggIc",
      "authorship_tag": "ABX9TyOn3Kei8ThS54hmNDzqn4pt",
      "include_colab_link": true
    },
    "kernelspec": {
      "name": "python3",
      "display_name": "Python 3"
    }
  },
  "cells": [
    {
      "cell_type": "markdown",
      "metadata": {
        "id": "view-in-github",
        "colab_type": "text"
      },
      "source": [
        "<a href=\"https://colab.research.google.com/github/olawale0254/ARFIMA/blob/master/EDA_on_the_Train.ipynb\" target=\"_parent\"><img src=\"https://colab.research.google.com/assets/colab-badge.svg\" alt=\"Open In Colab\"/></a>"
      ]
    },
    {
      "cell_type": "markdown",
      "metadata": {
        "id": "mTXT274wP2gB",
        "colab_type": "text"
      },
      "source": [
        "# Proactively AvertingTraffic Accident in South Africa using Machine Learning \n",
        "## Synopsis\n",
        "### *Introduction*: This project is all about geospatial analysis of traffic accident in South Africa\n",
        "### *Main Objectives*: Troactively predict traffic accident in South Africa using machine learning\n",
        "### *Significance of the study*: To contribute to the reduction of traffic accident in South Africa.\n",
        "### *Data Source*: Zindi"
      ]
    },
    {
      "cell_type": "code",
      "metadata": {
        "id": "OxSS4QIqPFVN",
        "colab_type": "code",
        "colab": {}
      },
      "source": [
        "# Importing The Datasets \n",
        "import pandas as pd\n",
        "import subprocess\n",
        "import stat\n",
        "import numpy as np\n",
        "import pandas as pd\n",
        "import seaborn as sns\n",
        "import matplotlib.pyplot as plt\n",
        "from datetime import datetime\n",
        "sns.set(style=\"white\")\n",
        "data = pd.read_csv('/content/drive/My Drive/Data/train.csv')"
      ],
      "execution_count": 33,
      "outputs": []
    },
    {
      "cell_type": "code",
      "metadata": {
        "id": "_rJKA0X3Q5QQ",
        "colab_type": "code",
        "colab": {
          "base_uri": "https://localhost:8080/",
          "height": 276
        },
        "outputId": "92b2695c-ee18-4bb0-806c-d6ae8ba16b34"
      },
      "source": [
        "data.head()"
      ],
      "execution_count": 34,
      "outputs": [
        {
          "output_type": "execute_result",
          "data": {
            "text/html": [
              "<div>\n",
              "<style scoped>\n",
              "    .dataframe tbody tr th:only-of-type {\n",
              "        vertical-align: middle;\n",
              "    }\n",
              "\n",
              "    .dataframe tbody tr th {\n",
              "        vertical-align: top;\n",
              "    }\n",
              "\n",
              "    .dataframe thead th {\n",
              "        text-align: right;\n",
              "    }\n",
              "</style>\n",
              "<table border=\"1\" class=\"dataframe\">\n",
              "  <thead>\n",
              "    <tr style=\"text-align: right;\">\n",
              "      <th></th>\n",
              "      <th>EventId</th>\n",
              "      <th>Occurrence Local Date Time</th>\n",
              "      <th>Reporting Agency</th>\n",
              "      <th>Cause</th>\n",
              "      <th>Subcause</th>\n",
              "      <th>Status</th>\n",
              "      <th>longitude</th>\n",
              "      <th>latitude</th>\n",
              "      <th>road_segment_id</th>\n",
              "    </tr>\n",
              "  </thead>\n",
              "  <tbody>\n",
              "    <tr>\n",
              "      <th>0</th>\n",
              "      <td>60558</td>\n",
              "      <td>01/01/16 00:53</td>\n",
              "      <td>Cam</td>\n",
              "      <td>Stationary Vehicle</td>\n",
              "      <td>Vehicle On Shoulder</td>\n",
              "      <td>Closed</td>\n",
              "      <td>18.5408955032</td>\n",
              "      <td>-33.888275</td>\n",
              "      <td>S0B3CGQ</td>\n",
              "    </tr>\n",
              "    <tr>\n",
              "      <th>1</th>\n",
              "      <td>60559</td>\n",
              "      <td>01/01/16 00:54</td>\n",
              "      <td>CAMERA</td>\n",
              "      <td>Accident</td>\n",
              "      <td>With A Fixed Object</td>\n",
              "      <td>Closed</td>\n",
              "      <td>18.9307563219</td>\n",
              "      <td>-34.140857</td>\n",
              "      <td>RYJYAPI</td>\n",
              "    </tr>\n",
              "    <tr>\n",
              "      <th>2</th>\n",
              "      <td>60560</td>\n",
              "      <td>01/01/16 02:26</td>\n",
              "      <td>Law Enforcement</td>\n",
              "      <td>Accident</td>\n",
              "      <td>Multi Vehicle</td>\n",
              "      <td>Closed</td>\n",
              "      <td>18.5533575029</td>\n",
              "      <td>-33.959154</td>\n",
              "      <td>U3KP57C</td>\n",
              "    </tr>\n",
              "    <tr>\n",
              "      <th>3</th>\n",
              "      <td>60561</td>\n",
              "      <td>01/01/16 02:56</td>\n",
              "      <td>CAMERA</td>\n",
              "      <td>Stationary Vehicle</td>\n",
              "      <td>Vehicle On Shoulder</td>\n",
              "      <td>Closed</td>\n",
              "      <td>18.6775561589</td>\n",
              "      <td>-33.895258</td>\n",
              "      <td>RY0TRQ8</td>\n",
              "    </tr>\n",
              "    <tr>\n",
              "      <th>4</th>\n",
              "      <td>60562</td>\n",
              "      <td>01/01/16 03:40</td>\n",
              "      <td>CAMERA</td>\n",
              "      <td>Accident</td>\n",
              "      <td>Multi Vehicle</td>\n",
              "      <td>Closed</td>\n",
              "      <td>18.8371319682</td>\n",
              "      <td>-34.087051</td>\n",
              "      <td>8LOVJZ3</td>\n",
              "    </tr>\n",
              "  </tbody>\n",
              "</table>\n",
              "</div>"
            ],
            "text/plain": [
              "   EventId Occurrence Local Date Time  ...   latitude road_segment_id\n",
              "0    60558             01/01/16 00:53  ... -33.888275         S0B3CGQ\n",
              "1    60559             01/01/16 00:54  ... -34.140857         RYJYAPI\n",
              "2    60560             01/01/16 02:26  ... -33.959154         U3KP57C\n",
              "3    60561             01/01/16 02:56  ... -33.895258         RY0TRQ8\n",
              "4    60562             01/01/16 03:40  ... -34.087051         8LOVJZ3\n",
              "\n",
              "[5 rows x 9 columns]"
            ]
          },
          "metadata": {
            "tags": []
          },
          "execution_count": 34
        }
      ]
    },
    {
      "cell_type": "code",
      "metadata": {
        "id": "iF8b86xuSz3_",
        "colab_type": "code",
        "colab": {
          "base_uri": "https://localhost:8080/",
          "height": 191
        },
        "outputId": "3ef8dab7-9434-481e-dad0-046472f210fc"
      },
      "source": [
        "data.isnull().sum()"
      ],
      "execution_count": 35,
      "outputs": [
        {
          "output_type": "execute_result",
          "data": {
            "text/plain": [
              "EventId                          0\n",
              "Occurrence Local Date Time       0\n",
              "Reporting Agency              1619\n",
              "Cause                            0\n",
              "Subcause                         0\n",
              "Status                           0\n",
              "longitude                        0\n",
              "latitude                         0\n",
              "road_segment_id                  0\n",
              "dtype: int64"
            ]
          },
          "metadata": {
            "tags": []
          },
          "execution_count": 35
        }
      ]
    },
    {
      "cell_type": "markdown",
      "metadata": {
        "id": "ljCJuY-EXLfS",
        "colab_type": "text"
      },
      "source": [
        "1. Dealing with the Date "
      ]
    },
    {
      "cell_type": "code",
      "metadata": {
        "id": "5IrKEnfnYUsm",
        "colab_type": "code",
        "colab": {
          "base_uri": "https://localhost:8080/",
          "height": 116
        },
        "outputId": "6e7e275d-38b4-464d-b176-a19037e4242b"
      },
      "source": [
        "data['DateTime']= data['Occurrence Local Date Time'].astype('str')\n",
        "data.head(1)"
      ],
      "execution_count": 36,
      "outputs": [
        {
          "output_type": "execute_result",
          "data": {
            "text/html": [
              "<div>\n",
              "<style scoped>\n",
              "    .dataframe tbody tr th:only-of-type {\n",
              "        vertical-align: middle;\n",
              "    }\n",
              "\n",
              "    .dataframe tbody tr th {\n",
              "        vertical-align: top;\n",
              "    }\n",
              "\n",
              "    .dataframe thead th {\n",
              "        text-align: right;\n",
              "    }\n",
              "</style>\n",
              "<table border=\"1\" class=\"dataframe\">\n",
              "  <thead>\n",
              "    <tr style=\"text-align: right;\">\n",
              "      <th></th>\n",
              "      <th>EventId</th>\n",
              "      <th>Occurrence Local Date Time</th>\n",
              "      <th>Reporting Agency</th>\n",
              "      <th>Cause</th>\n",
              "      <th>Subcause</th>\n",
              "      <th>Status</th>\n",
              "      <th>longitude</th>\n",
              "      <th>latitude</th>\n",
              "      <th>road_segment_id</th>\n",
              "      <th>DateTime</th>\n",
              "    </tr>\n",
              "  </thead>\n",
              "  <tbody>\n",
              "    <tr>\n",
              "      <th>0</th>\n",
              "      <td>60558</td>\n",
              "      <td>01/01/16 00:53</td>\n",
              "      <td>Cam</td>\n",
              "      <td>Stationary Vehicle</td>\n",
              "      <td>Vehicle On Shoulder</td>\n",
              "      <td>Closed</td>\n",
              "      <td>18.5408955032</td>\n",
              "      <td>-33.888275</td>\n",
              "      <td>S0B3CGQ</td>\n",
              "      <td>01/01/16 00:53</td>\n",
              "    </tr>\n",
              "  </tbody>\n",
              "</table>\n",
              "</div>"
            ],
            "text/plain": [
              "   EventId Occurrence Local Date Time  ... road_segment_id        DateTime\n",
              "0    60558             01/01/16 00:53  ...         S0B3CGQ  01/01/16 00:53\n",
              "\n",
              "[1 rows x 10 columns]"
            ]
          },
          "metadata": {
            "tags": []
          },
          "execution_count": 36
        }
      ]
    },
    {
      "cell_type": "code",
      "metadata": {
        "id": "hWLHSzwYTpKg",
        "colab_type": "code",
        "colab": {
          "base_uri": "https://localhost:8080/",
          "height": 170
        },
        "outputId": "f9b50ef9-92a4-4052-f4dc-8fae28f58928"
      },
      "source": [
        "data['DateTime'] = pd.to_datetime(data['DateTime'], errors='coerce')\n",
        "data['year'] = data['DateTime'].dt.year\n",
        "data['Day'] = data['DateTime'].dt.day_name()\n",
        "data['Month'] = data['DateTime'].dt.month_name()\n",
        "data['hour'] = data['DateTime'].dt.hour\n",
        "data['day_of_week'] = data['DateTime'].dt.weekday\n",
        "### Weekend Features \n",
        "def IsWeekend(x):\n",
        "    if x in [4, 5, 6]:\n",
        "        return 1\n",
        "    else:\n",
        "        return 0\n",
        "data['IsWeekend'] = data['day_of_week'].apply(IsWeekend)    \n",
        "\n",
        "### Payday\n",
        "def PayDay(x):\n",
        "    if x >= 25 and x<=31:\n",
        "        return 1\n",
        "    else:\n",
        "        return 0\n",
        "data['PayDay'] = data['day_of_week'].apply(PayDay)    \n",
        "\n",
        "data.head(1)"
      ],
      "execution_count": 37,
      "outputs": [
        {
          "output_type": "execute_result",
          "data": {
            "text/html": [
              "<div>\n",
              "<style scoped>\n",
              "    .dataframe tbody tr th:only-of-type {\n",
              "        vertical-align: middle;\n",
              "    }\n",
              "\n",
              "    .dataframe tbody tr th {\n",
              "        vertical-align: top;\n",
              "    }\n",
              "\n",
              "    .dataframe thead th {\n",
              "        text-align: right;\n",
              "    }\n",
              "</style>\n",
              "<table border=\"1\" class=\"dataframe\">\n",
              "  <thead>\n",
              "    <tr style=\"text-align: right;\">\n",
              "      <th></th>\n",
              "      <th>EventId</th>\n",
              "      <th>Occurrence Local Date Time</th>\n",
              "      <th>Reporting Agency</th>\n",
              "      <th>Cause</th>\n",
              "      <th>Subcause</th>\n",
              "      <th>Status</th>\n",
              "      <th>longitude</th>\n",
              "      <th>latitude</th>\n",
              "      <th>road_segment_id</th>\n",
              "      <th>DateTime</th>\n",
              "      <th>year</th>\n",
              "      <th>Day</th>\n",
              "      <th>Month</th>\n",
              "      <th>hour</th>\n",
              "      <th>day_of_week</th>\n",
              "      <th>IsWeekend</th>\n",
              "      <th>PayDay</th>\n",
              "    </tr>\n",
              "  </thead>\n",
              "  <tbody>\n",
              "    <tr>\n",
              "      <th>0</th>\n",
              "      <td>60558</td>\n",
              "      <td>01/01/16 00:53</td>\n",
              "      <td>Cam</td>\n",
              "      <td>Stationary Vehicle</td>\n",
              "      <td>Vehicle On Shoulder</td>\n",
              "      <td>Closed</td>\n",
              "      <td>18.5408955032</td>\n",
              "      <td>-33.888275</td>\n",
              "      <td>S0B3CGQ</td>\n",
              "      <td>2016-01-01 00:53:00</td>\n",
              "      <td>2016</td>\n",
              "      <td>Friday</td>\n",
              "      <td>January</td>\n",
              "      <td>0</td>\n",
              "      <td>4</td>\n",
              "      <td>1</td>\n",
              "      <td>0</td>\n",
              "    </tr>\n",
              "  </tbody>\n",
              "</table>\n",
              "</div>"
            ],
            "text/plain": [
              "   EventId Occurrence Local Date Time  ... IsWeekend PayDay\n",
              "0    60558             01/01/16 00:53  ...         1      0\n",
              "\n",
              "[1 rows x 17 columns]"
            ]
          },
          "metadata": {
            "tags": []
          },
          "execution_count": 37
        }
      ]
    },
    {
      "cell_type": "code",
      "metadata": {
        "id": "CdYCUCKvX746",
        "colab_type": "code",
        "colab": {
          "base_uri": "https://localhost:8080/",
          "height": 219
        },
        "outputId": "e03ef80c-3d89-4b3e-d220-f65747ccf57c"
      },
      "source": [
        "data = data.drop('Occurrence Local Date Time', axis=1) \n",
        "data.head(2)"
      ],
      "execution_count": 38,
      "outputs": [
        {
          "output_type": "execute_result",
          "data": {
            "text/html": [
              "<div>\n",
              "<style scoped>\n",
              "    .dataframe tbody tr th:only-of-type {\n",
              "        vertical-align: middle;\n",
              "    }\n",
              "\n",
              "    .dataframe tbody tr th {\n",
              "        vertical-align: top;\n",
              "    }\n",
              "\n",
              "    .dataframe thead th {\n",
              "        text-align: right;\n",
              "    }\n",
              "</style>\n",
              "<table border=\"1\" class=\"dataframe\">\n",
              "  <thead>\n",
              "    <tr style=\"text-align: right;\">\n",
              "      <th></th>\n",
              "      <th>EventId</th>\n",
              "      <th>Reporting Agency</th>\n",
              "      <th>Cause</th>\n",
              "      <th>Subcause</th>\n",
              "      <th>Status</th>\n",
              "      <th>longitude</th>\n",
              "      <th>latitude</th>\n",
              "      <th>road_segment_id</th>\n",
              "      <th>DateTime</th>\n",
              "      <th>year</th>\n",
              "      <th>Day</th>\n",
              "      <th>Month</th>\n",
              "      <th>hour</th>\n",
              "      <th>day_of_week</th>\n",
              "      <th>IsWeekend</th>\n",
              "      <th>PayDay</th>\n",
              "    </tr>\n",
              "  </thead>\n",
              "  <tbody>\n",
              "    <tr>\n",
              "      <th>0</th>\n",
              "      <td>60558</td>\n",
              "      <td>Cam</td>\n",
              "      <td>Stationary Vehicle</td>\n",
              "      <td>Vehicle On Shoulder</td>\n",
              "      <td>Closed</td>\n",
              "      <td>18.5408955032</td>\n",
              "      <td>-33.888275</td>\n",
              "      <td>S0B3CGQ</td>\n",
              "      <td>2016-01-01 00:53:00</td>\n",
              "      <td>2016</td>\n",
              "      <td>Friday</td>\n",
              "      <td>January</td>\n",
              "      <td>0</td>\n",
              "      <td>4</td>\n",
              "      <td>1</td>\n",
              "      <td>0</td>\n",
              "    </tr>\n",
              "    <tr>\n",
              "      <th>1</th>\n",
              "      <td>60559</td>\n",
              "      <td>CAMERA</td>\n",
              "      <td>Accident</td>\n",
              "      <td>With A Fixed Object</td>\n",
              "      <td>Closed</td>\n",
              "      <td>18.9307563219</td>\n",
              "      <td>-34.140857</td>\n",
              "      <td>RYJYAPI</td>\n",
              "      <td>2016-01-01 00:54:00</td>\n",
              "      <td>2016</td>\n",
              "      <td>Friday</td>\n",
              "      <td>January</td>\n",
              "      <td>0</td>\n",
              "      <td>4</td>\n",
              "      <td>1</td>\n",
              "      <td>0</td>\n",
              "    </tr>\n",
              "  </tbody>\n",
              "</table>\n",
              "</div>"
            ],
            "text/plain": [
              "   EventId Reporting Agency               Cause  ... day_of_week IsWeekend PayDay\n",
              "0    60558              Cam  Stationary Vehicle  ...           4         1      0\n",
              "1    60559           CAMERA            Accident  ...           4         1      0\n",
              "\n",
              "[2 rows x 16 columns]"
            ]
          },
          "metadata": {
            "tags": []
          },
          "execution_count": 38
        }
      ]
    },
    {
      "cell_type": "markdown",
      "metadata": {
        "id": "dysVvm7HBxV9",
        "colab_type": "text"
      },
      "source": [
        "## Accidents Based on Time\n",
        "\n"
      ]
    },
    {
      "cell_type": "markdown",
      "metadata": {
        "id": "Cw8yQ8yhPo7R",
        "colab_type": "text"
      },
      "source": [
        "1. Month"
      ]
    },
    {
      "cell_type": "code",
      "metadata": {
        "id": "A5pxDqFsB3i8",
        "colab_type": "code",
        "colab": {
          "base_uri": "https://localhost:8080/",
          "height": 336
        },
        "outputId": "2bb9ef17-c412-4b5d-d8be-27d39d7a0de7"
      },
      "source": [
        "data['Month'].value_counts().plot.bar()"
      ],
      "execution_count": 39,
      "outputs": [
        {
          "output_type": "execute_result",
          "data": {
            "text/plain": [
              "<matplotlib.axes._subplots.AxesSubplot at 0x7fef9b5add30>"
            ]
          },
          "metadata": {
            "tags": []
          },
          "execution_count": 39
        },
        {
          "output_type": "display_data",
          "data": {
            "image/png": "[encoded data removed]",
            "text/plain": [
              "<Figure size 432x288 with 1 Axes>"
            ]
          },
          "metadata": {
            "tags": []
          }
        }
      ]
    },
    {
      "cell_type": "markdown",
      "metadata": {
        "id": "VkNC1DY0PwI-",
        "colab_type": "text"
      },
      "source": [
        "2. Day"
      ]
    },
    {
      "cell_type": "code",
      "metadata": {
        "id": "dotRIIGPB_3C",
        "colab_type": "code",
        "colab": {
          "base_uri": "https://localhost:8080/",
          "height": 339
        },
        "outputId": "07c26fe1-b238-4ca0-8522-ed52563d2f81"
      },
      "source": [
        "data['Day'].value_counts().plot.bar()"
      ],
      "execution_count": 40,
      "outputs": [
        {
          "output_type": "execute_result",
          "data": {
            "text/plain": [
              "<matplotlib.axes._subplots.AxesSubplot at 0x7fef9af20f98>"
            ]
          },
          "metadata": {
            "tags": []
          },
          "execution_count": 40
        },
        {
          "output_type": "display_data",
          "data": {
            "image/png": "[encoded data removed]",
            "text/plain": [
              "<Figure size 432x288 with 1 Axes>"
            ]
          },
          "metadata": {
            "tags": []
          }
        }
      ]
    },
    {
      "cell_type": "markdown",
      "metadata": {
        "id": "NLEd6O_nQAfv",
        "colab_type": "text"
      },
      "source": [
        "3. Year"
      ]
    },
    {
      "cell_type": "code",
      "metadata": {
        "id": "xyav_ARzDQ21",
        "colab_type": "code",
        "colab": {
          "base_uri": "https://localhost:8080/",
          "height": 303
        },
        "outputId": "4019f90e-2618-42dc-f003-3f5fc2edcb13"
      },
      "source": [
        "data['year'].value_counts().plot.bar()"
      ],
      "execution_count": 41,
      "outputs": [
        {
          "output_type": "execute_result",
          "data": {
            "text/plain": [
              "<matplotlib.axes._subplots.AxesSubplot at 0x7fef9ae3bfd0>"
            ]
          },
          "metadata": {
            "tags": []
          },
          "execution_count": 41
        },
        {
          "output_type": "display_data",
          "data": {
            "image/png": "[encoded data removed]",
            "text/plain": [
              "<Figure size 432x288 with 1 Axes>"
            ]
          },
          "metadata": {
            "tags": []
          }
        }
      ]
    },
    {
      "cell_type": "code",
      "metadata": {
        "id": "IQu7uH6gQNHS",
        "colab_type": "code",
        "colab": {
          "base_uri": "https://localhost:8080/",
          "height": 285
        },
        "outputId": "29fe0c4f-89b2-4fef-a304-05b0efc361f4"
      },
      "source": [
        "data['IsWeekend'].value_counts().plot.bar()"
      ],
      "execution_count": 42,
      "outputs": [
        {
          "output_type": "execute_result",
          "data": {
            "text/plain": [
              "<matplotlib.axes._subplots.AxesSubplot at 0x7fef9addbe10>"
            ]
          },
          "metadata": {
            "tags": []
          },
          "execution_count": 42
        },
        {
          "output_type": "display_data",
          "data": {
            "image/png": "[encoded data removed]",
            "text/plain": [
              "<Figure size 432x288 with 1 Axes>"
            ]
          },
          "metadata": {
            "tags": []
          }
        }
      ]
    },
    {
      "cell_type": "code",
      "metadata": {
        "id": "LS0nsaw1Q-Mi",
        "colab_type": "code",
        "colab": {
          "base_uri": "https://localhost:8080/",
          "height": 289
        },
        "outputId": "d2f70d23-b9b7-4dfb-b898-d7cdce2c980c"
      },
      "source": [
        "data['hour'].value_counts().plot.bar()"
      ],
      "execution_count": 43,
      "outputs": [
        {
          "output_type": "execute_result",
          "data": {
            "text/plain": [
              "<matplotlib.axes._subplots.AxesSubplot at 0x7fef9adb7748>"
            ]
          },
          "metadata": {
            "tags": []
          },
          "execution_count": 43
        },
        {
          "output_type": "display_data",
          "data": {
            "image/png": "[encoded data removed]",
            "text/plain": [
              "<Figure size 432x288 with 1 Axes>"
            ]
          },
          "metadata": {
            "tags": []
          }
        }
      ]
    },
    {
      "cell_type": "markdown",
      "metadata": {
        "id": "WE_LDhkmUBqc",
        "colab_type": "text"
      },
      "source": [
        "Our findings are listed below\n",
        "- Traffic Accidents happen majorly by May, December and September\n",
        "- Mondays and Fridays has the highest number of recorded accidents \n",
        "- 2018 hasthe highest recorded cases of accidents while 2017 has the least\n",
        "- Most accidents happend around the 7th, 8th, 6th and 9th  hour of the day i.e 7:00am, 8:00am, 6:00am and 9:00am in the morning. Looking closely, we notices that 13:00hours to 16:00hours i.e between 1:00pm and 4:00pm are the next group that follows the highly recorded time for accidents. "
      ]
    },
    {
      "cell_type": "markdown",
      "metadata": {
        "id": "BGuS0MnWzjmK",
        "colab_type": "text"
      },
      "source": [
        "## Major cause of Accident"
      ]
    },
    {
      "cell_type": "code",
      "metadata": {
        "id": "gzNv0OO6uiE-",
        "colab_type": "code",
        "colab": {
          "base_uri": "https://localhost:8080/",
          "height": 139
        },
        "outputId": "b598d97d-16b0-46c9-cf2d-cfcf711d6a5c"
      },
      "source": [
        "data['Cause'].unique()"
      ],
      "execution_count": 44,
      "outputs": [
        {
          "output_type": "execute_result",
          "data": {
            "text/plain": [
              "array(['Stationary Vehicle', 'Accident', 'Police and Military',\n",
              "       'Congestion', 'Fire', 'Routine Road Maintenance', 'Pedestrians',\n",
              "       'Obstruction', 'Lost Load', 'Field Device Maintenance', 'HAZMAT',\n",
              "       'Poor Visibility', 'Road Construction', 'Weather Conditions',\n",
              "       'Sporting Events', 'Cam', 'cdam', 'cam', 'Crash', 'Concerts/Other',\n",
              "       'Arrestor', 'Roadworks', 'Fire & Smoke',\n",
              "       'Weather & Road Conditions'], dtype=object)"
            ]
          },
          "metadata": {
            "tags": []
          },
          "execution_count": 44
        }
      ]
    },
    {
      "cell_type": "code",
      "metadata": {
        "id": "mMOFmSw1yTGx",
        "colab_type": "code",
        "colab": {
          "base_uri": "https://localhost:8080/",
          "height": 637
        },
        "outputId": "373235f6-1f7c-4c40-f7bb-5c298e3f1541"
      },
      "source": [
        "sns.set_style(\"whitegrid\")\n",
        "g = sns.factorplot(y=\"Cause\", data=data, kind=\"count\",\n",
        "                   palette=\"Reds_r\", size=7, aspect=1.5)\n",
        "g.ax.set_title(\"Causes of Accidents by Counts\",fontdict={'size':18})\n",
        "g.ax.xaxis.set_label_text(\"Count of Accidents\",fontdict= {'size':16})\n",
        "g.ax.yaxis.set_label_text(\"Causes\",fontdict= {'size':16})\n",
        "plt.show()"
      ],
      "execution_count": 45,
      "outputs": [
        {
          "output_type": "stream",
          "text": [
            "/usr/local/lib/python3.6/dist-packages/seaborn/categorical.py:3666: UserWarning: The `factorplot` function has been renamed to `catplot`. The original name will be removed in a future release. Please update your code. Note that the default `kind` in `factorplot` (`'point'`) has changed `'strip'` in `catplot`.\n",
            "  warnings.warn(msg)\n",
            "/usr/local/lib/python3.6/dist-packages/seaborn/categorical.py:3672: UserWarning: The `size` parameter has been renamed to `height`; please update your code.\n",
            "  warnings.warn(msg, UserWarning)\n"
          ],
          "name": "stderr"
        },
        {
          "output_type": "display_data",
          "data": {
            "image/png": "[encoded data removed]",
            "text/plain": [
              "<Figure size 756x504 with 1 Axes>"
            ]
          },
          "metadata": {
            "tags": []
          }
        }
      ]
    },
    {
      "cell_type": "markdown",
      "metadata": {
        "id": "PQtEb0vfy_8P",
        "colab_type": "text"
      },
      "source": [
        "The major cause of the acident is Stationary Vehicles, Congestions and Routine road mentainance.\n",
        "We infestigated the major causes of the accidents and theyare explained below."
      ]
    },
    {
      "cell_type": "markdown",
      "metadata": {
        "id": "1mHBeHmi5tjo",
        "colab_type": "text"
      },
      "source": [
        "## Date Related Insights "
      ]
    },
    {
      "cell_type": "code",
      "metadata": {
        "id": "Xh-pdM8j5iKD",
        "colab_type": "code",
        "colab": {
          "base_uri": "https://localhost:8080/",
          "height": 34
        },
        "outputId": "0326d433-d581-4dfe-fc75-8dca8083d018"
      },
      "source": [
        "import seaborn as sns\n",
        "import matplotlib.pylab as plt\n",
        "### Number  of years \n",
        "data['year'].unique()"
      ],
      "execution_count": 46,
      "outputs": [
        {
          "output_type": "execute_result",
          "data": {
            "text/plain": [
              "array([2016, 2017, 2018])"
            ]
          },
          "metadata": {
            "tags": []
          },
          "execution_count": 46
        }
      ]
    },
    {
      "cell_type": "code",
      "metadata": {
        "id": "Fa_sB_WO5y_I",
        "colab_type": "code",
        "colab": {}
      },
      "source": [
        "#Calculating the number of weeks in the dataset we have data for\n",
        "b = data[data[\"year\"]==2018][\"DateTime\"].dt.week.nunique() + data[data[\"year\"]==2017][\"DateTime\"].dt.week.nunique() + data[data[\"year\"]==2016][\"DateTime\"].dt.week.nunique()"
      ],
      "execution_count": 47,
      "outputs": []
    },
    {
      "cell_type": "markdown",
      "metadata": {
        "id": "kuSt-GyT9xY4",
        "colab_type": "text"
      },
      "source": [
        "### Days with Highest Number of Accident based on Cause of Accident\n",
        "\n",
        "1. Stationary Vehicles "
      ]
    },
    {
      "cell_type": "code",
      "metadata": {
        "id": "CbH-01az5zKK",
        "colab_type": "code",
        "colab": {
          "base_uri": "https://localhost:8080/",
          "height": 339
        },
        "outputId": "f1d55595-121b-4350-9a43-0e146d82918f"
      },
      "source": [
        "(data[data['Cause']=='Stationary Vehicle'][\"Day\"].value_counts()/b).plot.bar()"
      ],
      "execution_count": 48,
      "outputs": [
        {
          "output_type": "execute_result",
          "data": {
            "text/plain": [
              "<matplotlib.axes._subplots.AxesSubplot at 0x7fef9acd0908>"
            ]
          },
          "metadata": {
            "tags": []
          },
          "execution_count": 48
        },
        {
          "output_type": "display_data",
          "data": {
            "image/png": "[encoded data removed]",
            "text/plain": [
              "<Figure size 432x288 with 1 Axes>"
            ]
          },
          "metadata": {
            "tags": []
          }
        }
      ]
    },
    {
      "cell_type": "markdown",
      "metadata": {
        "id": "WbEtcC5B-JQS",
        "colab_type": "text"
      },
      "source": [
        "2. Congestion"
      ]
    },
    {
      "cell_type": "code",
      "metadata": {
        "id": "dVRVq_OV-Hh1",
        "colab_type": "code",
        "colab": {
          "base_uri": "https://localhost:8080/",
          "height": 339
        },
        "outputId": "bd1c081e-47c9-4667-eb20-5018e00c98c7"
      },
      "source": [
        "(data[data['Cause']=='Congestion'][\"Day\"].value_counts()/b).plot.bar()"
      ],
      "execution_count": 49,
      "outputs": [
        {
          "output_type": "execute_result",
          "data": {
            "text/plain": [
              "<matplotlib.axes._subplots.AxesSubplot at 0x7fef937d9550>"
            ]
          },
          "metadata": {
            "tags": []
          },
          "execution_count": 49
        },
        {
          "output_type": "display_data",
          "data": {
            "image/png": "[encoded data removed]",
            "text/plain": [
              "<Figure size 432x288 with 1 Axes>"
            ]
          },
          "metadata": {
            "tags": []
          }
        }
      ]
    },
    {
      "cell_type": "markdown",
      "metadata": {
        "id": "QZoFMBwb_CDQ",
        "colab_type": "text"
      },
      "source": [
        "3. Accident"
      ]
    },
    {
      "cell_type": "code",
      "metadata": {
        "id": "VI-hVgeN-H7o",
        "colab_type": "code",
        "colab": {
          "base_uri": "https://localhost:8080/",
          "height": 339
        },
        "outputId": "6c14242c-5116-493e-98df-b287f5fb0ae0"
      },
      "source": [
        "(data[data['Cause']=='Accident'][\"Day\"].value_counts()/b).plot.bar()"
      ],
      "execution_count": 50,
      "outputs": [
        {
          "output_type": "execute_result",
          "data": {
            "text/plain": [
              "<matplotlib.axes._subplots.AxesSubplot at 0x7fef9da6fb70>"
            ]
          },
          "metadata": {
            "tags": []
          },
          "execution_count": 50
        },
        {
          "output_type": "display_data",
          "data": {
            "image/png": "[encoded data removed]",
            "text/plain": [
              "<Figure size 432x288 with 1 Axes>"
            ]
          },
          "metadata": {
            "tags": []
          }
        }
      ]
    },
    {
      "cell_type": "markdown",
      "metadata": {
        "id": "QifSKkSF_Fvo",
        "colab_type": "text"
      },
      "source": [
        "4. Routine Road Maintenance"
      ]
    },
    {
      "cell_type": "code",
      "metadata": {
        "id": "YV96JYzU-H3H",
        "colab_type": "code",
        "colab": {
          "base_uri": "https://localhost:8080/",
          "height": 339
        },
        "outputId": "efc7c16f-25fc-4666-da86-34ea95e3ab80"
      },
      "source": [
        "(data[data['Cause']=='Routine Road Maintenance'][\"Day\"].value_counts()/b).plot.bar()"
      ],
      "execution_count": 51,
      "outputs": [
        {
          "output_type": "execute_result",
          "data": {
            "text/plain": [
              "<matplotlib.axes._subplots.AxesSubplot at 0x7fef9c86a320>"
            ]
          },
          "metadata": {
            "tags": []
          },
          "execution_count": 51
        },
        {
          "output_type": "display_data",
          "data": {
            "image/png": "[encoded data removed]",
            "text/plain": [
              "<Figure size 432x288 with 1 Axes>"
            ]
          },
          "metadata": {
            "tags": []
          }
        }
      ]
    },
    {
      "cell_type": "markdown",
      "metadata": {
        "id": "oY-25qlN_OtU",
        "colab_type": "text"
      },
      "source": [
        "5. Crash"
      ]
    },
    {
      "cell_type": "code",
      "metadata": {
        "id": "kPGGf3q0-Hy8",
        "colab_type": "code",
        "colab": {
          "base_uri": "https://localhost:8080/",
          "height": 339
        },
        "outputId": "d132b162-ebf7-4548-a179-23cf4465efe6"
      },
      "source": [
        "(data[data['Cause']=='Crash'][\"Day\"].value_counts()/b).plot.bar()"
      ],
      "execution_count": 52,
      "outputs": [
        {
          "output_type": "execute_result",
          "data": {
            "text/plain": [
              "<matplotlib.axes._subplots.AxesSubplot at 0x7fef9bf623c8>"
            ]
          },
          "metadata": {
            "tags": []
          },
          "execution_count": 52
        },
        {
          "output_type": "display_data",
          "data": {
            "image/png": "[encoded data removed]",
            "text/plain": [
              "<Figure size 432x288 with 1 Axes>"
            ]
          },
          "metadata": {
            "tags": []
          }
        }
      ]
    },
    {
      "cell_type": "markdown",
      "metadata": {
        "id": "0tbiw2EQ_TWE",
        "colab_type": "text"
      },
      "source": [
        "Based on our findings from above, the traffic accidents happend on different days of the week. \n",
        "- Most Traffic accidents caused by Stationary Vehiceles happens on **Mondays**\n",
        "- Most Traffic accidents caused by Congestions often happen on **Wednesdays Tuesdays and Fridays**\n",
        "- Most Traffic accidents caused by Unknown accidents happens on **Fridays**\n",
        "- Most Traffic accidents caused by Routine Road Maintenance happen on **Wednesdays**\n",
        "- Most Traffic accidents caused by Routine Road Crash happen on **Friday**\n",
        "\n",
        "\n"
      ]
    },
    {
      "cell_type": "markdown",
      "metadata": {
        "id": "EtJPPquQeutc",
        "colab_type": "text"
      },
      "source": [
        "## Geospatial Features "
      ]
    },
    {
      "cell_type": "code",
      "metadata": {
        "id": "ioy-bvefglnE",
        "colab_type": "code",
        "colab": {
          "base_uri": "https://localhost:8080/",
          "height": 141
        },
        "outputId": "3df34cbe-67e9-465c-ee6c-bd7fd80c474b"
      },
      "source": [
        "# data = data.drop(data.index[[16693]])\n",
        "# data = data.drop(data.index[[23454]])\n",
        "data = data[data.longitude != 'Closed']\n",
        "data[\"longitude\"] = pd.to_numeric(data[\"longitude\"])"
      ],
      "execution_count": 60,
      "outputs": [
        {
          "output_type": "stream",
          "text": [
            "/usr/local/lib/python3.6/dist-packages/ipykernel_launcher.py:4: SettingWithCopyWarning: \n",
            "A value is trying to be set on a copy of a slice from a DataFrame.\n",
            "Try using .loc[row_indexer,col_indexer] = value instead\n",
            "\n",
            "See the caveats in the documentation: https://pandas.pydata.org/pandas-docs/stable/user_guide/indexing.html#returning-a-view-versus-a-copy\n",
            "  after removing the cwd from sys.path.\n"
          ],
          "name": "stderr"
        }
      ]
    },
    {
      "cell_type": "code",
      "metadata": {
        "id": "nON-9QzlcwxN",
        "colab_type": "code",
        "colab": {
          "base_uri": "https://localhost:8080/",
          "height": 797
        },
        "outputId": "fce4586b-0a96-4471-d41a-657f0383a3b2"
      },
      "source": [
        "plt.figure(figsize=(12,12))\n",
        "sns.jointplot(x=data.latitude.values, y=data.longitude.values, size=10)\n",
        "plt.ylabel('Longitude', fontsize=12)\n",
        "plt.xlabel('Latitude', fontsize=12)\n",
        "plt.show()"
      ],
      "execution_count": 61,
      "outputs": [
        {
          "output_type": "stream",
          "text": [
            "/usr/local/lib/python3.6/dist-packages/seaborn/axisgrid.py:2264: UserWarning: The `size` parameter has been renamed to `height`; please update your code.\n",
            "  warnings.warn(msg, UserWarning)\n"
          ],
          "name": "stderr"
        },
        {
          "output_type": "display_data",
          "data": {
            "text/plain": [
              "<Figure size 864x864 with 0 Axes>"
            ]
          },
          "metadata": {
            "tags": []
          }
        },
        {
          "output_type": "display_data",
          "data": {
            "image/png": "[encoded data removed]",
            "text/plain": [
              "<Figure size 720x720 with 3 Axes>"
            ]
          },
          "metadata": {
            "tags": []
          }
        }
      ]
    }
  ]
}